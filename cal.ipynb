{
 "cells": [
  {
   "cell_type": "code",
   "execution_count": 11,
   "id": "881cbea8",
   "metadata": {},
   "outputs": [
    {
     "name": "stdout",
     "output_type": "stream",
     "text": [
      "pH: 7, HOCl: 0, ORP: 914.66 mV\n",
      "pH: 7, HOCl: 1, ORP: 1001.33 mV\n",
      "pH: 7, HOCl: 2, ORP: 1088.00 mV\n",
      "pH: 7, HOCl: 3, ORP: 1174.66 mV\n"
     ]
    }
   ],
   "source": [
    "import random \n",
    "import time\n",
    "def get_orp(ph, hocl):\n",
    "    # Constants for the Nernst equation\n",
    "    orp = 2025.333 - 158.667 * ph + 86.667 * hocl\n",
    "    return orp\n",
    "\n",
    "# hocl = [0,1,2,3]\n",
    "# ph = [6, 6.5, 7, 7.5, 8, 8.5, 9]\n",
    "hocl = [0,1,2,3]\n",
    "ph =int(7)\n",
    "for i in range(4):\n",
    "    # chosen_ph = random.choice(ph)\n",
    "    # chosen_hocl = random.choice(hocl)\n",
    "    chosen_ph = ph\n",
    "    chosen_hocl = hocl[i]\n",
    "    orp = get_orp(chosen_ph, chosen_hocl)\n",
    "    print(f\"pH: {chosen_ph}, HOCl: {chosen_hocl}, ORP: {orp:.2f} mV\")\n",
    "    time.sleep(1)"
   ]
  },
  {
   "cell_type": "code",
   "execution_count": 27,
   "id": "8c67d008",
   "metadata": {},
   "outputs": [
    {
     "name": "stdout",
     "output_type": "stream",
     "text": [
      "    pH  hocl  orp\n",
      "0  6.0   3.0  800\n",
      "1  6.5   2.5  780\n",
      "2  7.0   2.0  750\n",
      "3  7.5   1.5  720\n",
      "4  8.0   1.0  670\n",
      "5  8.5   0.5  620\n",
      "6  9.0   0.2  580\n",
      "Regression equation: ORP = 78.5524  * HOCl + 582.7842\n"
     ]
    }
   ],
   "source": [
    "import pandas as pd\n",
    "from sklearn import linear_model\n",
    "\n",
    "\n",
    "df = pd.read_csv('orp.csv')\n",
    "print(df)\n",
    "\n",
    "# X = df[['pH', 'hocl']]\n",
    "# y = df['orp']\n",
    "\n",
    "X = df[[ 'hocl']]\n",
    "y = df['orp']\n",
    "\n",
    "regr = linear_model.LinearRegression()\n",
    "regr.fit(X, y)\n",
    "\n",
    "\n",
    "coef = regr.coef_\n",
    "intercept = regr.intercept_\n",
    "\n",
    "# Print the regression equation\n",
    "# print(f\"Regression equation: ORP = {coef[0]:.4f} * pH + {coef[1]:.4f} * HOCl + {intercept:.4f}\")\n",
    "\n",
    "\n",
    "\n",
    "print(f\"Regression equation: ORP = {coef[0]:.4f}  * HOCl + {intercept:.4f}\")\n"
   ]
  }
 ],
 "metadata": {
  "kernelspec": {
   "display_name": "Python 3",
   "language": "python",
   "name": "python3"
  },
  "language_info": {
   "codemirror_mode": {
    "name": "ipython",
    "version": 3
   },
   "file_extension": ".py",
   "mimetype": "text/x-python",
   "name": "python",
   "nbconvert_exporter": "python",
   "pygments_lexer": "ipython3",
   "version": "3.13.2"
  }
 },
 "nbformat": 4,
 "nbformat_minor": 5
}
