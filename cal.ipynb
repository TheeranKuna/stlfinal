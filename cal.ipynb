{
 "cells": [
  {
   "cell_type": "code",
   "execution_count": null,
   "id": "881cbea8",
   "metadata": {},
   "outputs": [],
   "source": [
    "import random \n",
    "def get_orp(ph, hocl):\n",
    "    # Constants for the Nernst equation\n",
    "    orp = 2025.333 - 158.667 * ph - 86.667 * hocl\n",
    "    return orp\n",
    "\n",
    "hocl = [0,1,2,3]\n",
    "ph = [6, 6.5, 7, 7.5, 8, 8.5, 9]\n",
    "\n",
    "for i in range(20):\n",
    "    chosen_ph = random.choice(ph)\n",
    "    chosen_hocl = random.choice(hocl)\n",
    "    orp = get_orp(chosen_ph, chosen_hocl)\n",
    "    print(f\"pH: {chosen_ph}, HOCl: {chosen_hocl}, ORP: {orp:.2f} mV\")\n",
    "    time.sleep(1)"
   ]
  }
 ],
 "metadata": {
  "language_info": {
   "name": "python"
  }
 },
 "nbformat": 4,
 "nbformat_minor": 5
}
